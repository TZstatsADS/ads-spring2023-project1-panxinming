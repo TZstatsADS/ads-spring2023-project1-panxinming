{
 "cells": [
  {
   "cell_type": "code",
   "execution_count": 1,
   "id": "f48eabd1",
   "metadata": {},
   "outputs": [],
   "source": [
    "import pandas as pd\n",
    "df = pd.read_csv(\"philosophy_data.csv\")"
   ]
  },
  {
   "cell_type": "code",
   "execution_count": 2,
   "id": "500cc6e2",
   "metadata": {
    "scrolled": true
   },
   "outputs": [
    {
     "data": {
      "text/html": [
       "<div>\n",
       "<style scoped>\n",
       "    .dataframe tbody tr th:only-of-type {\n",
       "        vertical-align: middle;\n",
       "    }\n",
       "\n",
       "    .dataframe tbody tr th {\n",
       "        vertical-align: top;\n",
       "    }\n",
       "\n",
       "    .dataframe thead th {\n",
       "        text-align: right;\n",
       "    }\n",
       "</style>\n",
       "<table border=\"1\" class=\"dataframe\">\n",
       "  <thead>\n",
       "    <tr style=\"text-align: right;\">\n",
       "      <th></th>\n",
       "      <th>title</th>\n",
       "      <th>author</th>\n",
       "      <th>school</th>\n",
       "      <th>sentence_spacy</th>\n",
       "      <th>sentence_str</th>\n",
       "      <th>original_publication_date</th>\n",
       "      <th>corpus_edition_date</th>\n",
       "      <th>sentence_length</th>\n",
       "      <th>sentence_lowered</th>\n",
       "      <th>tokenized_txt</th>\n",
       "      <th>lemmatized_str</th>\n",
       "    </tr>\n",
       "  </thead>\n",
       "  <tbody>\n",
       "    <tr>\n",
       "      <th>0</th>\n",
       "      <td>Plato - Complete Works</td>\n",
       "      <td>Plato</td>\n",
       "      <td>plato</td>\n",
       "      <td>What's new, Socrates, to make you leave your ...</td>\n",
       "      <td>What's new, Socrates, to make you leave your ...</td>\n",
       "      <td>-350</td>\n",
       "      <td>1997</td>\n",
       "      <td>125</td>\n",
       "      <td>what's new, socrates, to make you leave your ...</td>\n",
       "      <td>['what', 'new', 'socrates', 'to', 'make', 'you...</td>\n",
       "      <td>what be new , Socrates , to make -PRON- lea...</td>\n",
       "    </tr>\n",
       "    <tr>\n",
       "      <th>1</th>\n",
       "      <td>Plato - Complete Works</td>\n",
       "      <td>Plato</td>\n",
       "      <td>plato</td>\n",
       "      <td>Surely you are not prosecuting anyone before t...</td>\n",
       "      <td>Surely you are not prosecuting anyone before t...</td>\n",
       "      <td>-350</td>\n",
       "      <td>1997</td>\n",
       "      <td>69</td>\n",
       "      <td>surely you are not prosecuting anyone before t...</td>\n",
       "      <td>['surely', 'you', 'are', 'not', 'prosecuting',...</td>\n",
       "      <td>surely -PRON- be not prosecute anyone before ...</td>\n",
       "    </tr>\n",
       "    <tr>\n",
       "      <th>2</th>\n",
       "      <td>Plato - Complete Works</td>\n",
       "      <td>Plato</td>\n",
       "      <td>plato</td>\n",
       "      <td>The Athenians do not call this a prosecution b...</td>\n",
       "      <td>The Athenians do not call this a prosecution b...</td>\n",
       "      <td>-350</td>\n",
       "      <td>1997</td>\n",
       "      <td>74</td>\n",
       "      <td>the athenians do not call this a prosecution b...</td>\n",
       "      <td>['the', 'athenians', 'do', 'not', 'call', 'thi...</td>\n",
       "      <td>the Athenians do not call this a prosecution ...</td>\n",
       "    </tr>\n",
       "    <tr>\n",
       "      <th>3</th>\n",
       "      <td>Plato - Complete Works</td>\n",
       "      <td>Plato</td>\n",
       "      <td>plato</td>\n",
       "      <td>What is this you say?</td>\n",
       "      <td>What is this you say?</td>\n",
       "      <td>-350</td>\n",
       "      <td>1997</td>\n",
       "      <td>21</td>\n",
       "      <td>what is this you say?</td>\n",
       "      <td>['what', 'is', 'this', 'you', 'say']</td>\n",
       "      <td>what be this -PRON- say ?</td>\n",
       "    </tr>\n",
       "    <tr>\n",
       "      <th>4</th>\n",
       "      <td>Plato - Complete Works</td>\n",
       "      <td>Plato</td>\n",
       "      <td>plato</td>\n",
       "      <td>Someone must have indicted you, for you are no...</td>\n",
       "      <td>Someone must have indicted you, for you are no...</td>\n",
       "      <td>-350</td>\n",
       "      <td>1997</td>\n",
       "      <td>101</td>\n",
       "      <td>someone must have indicted you, for you are no...</td>\n",
       "      <td>['someone', 'must', 'have', 'indicted', 'you',...</td>\n",
       "      <td>someone must have indict -PRON- , for -PRON- ...</td>\n",
       "    </tr>\n",
       "  </tbody>\n",
       "</table>\n",
       "</div>"
      ],
      "text/plain": [
       "                    title author school  \\\n",
       "0  Plato - Complete Works  Plato  plato   \n",
       "1  Plato - Complete Works  Plato  plato   \n",
       "2  Plato - Complete Works  Plato  plato   \n",
       "3  Plato - Complete Works  Plato  plato   \n",
       "4  Plato - Complete Works  Plato  plato   \n",
       "\n",
       "                                      sentence_spacy  \\\n",
       "0   What's new, Socrates, to make you leave your ...   \n",
       "1  Surely you are not prosecuting anyone before t...   \n",
       "2  The Athenians do not call this a prosecution b...   \n",
       "3                              What is this you say?   \n",
       "4  Someone must have indicted you, for you are no...   \n",
       "\n",
       "                                        sentence_str  \\\n",
       "0   What's new, Socrates, to make you leave your ...   \n",
       "1  Surely you are not prosecuting anyone before t...   \n",
       "2  The Athenians do not call this a prosecution b...   \n",
       "3                              What is this you say?   \n",
       "4  Someone must have indicted you, for you are no...   \n",
       "\n",
       "   original_publication_date  corpus_edition_date  sentence_length  \\\n",
       "0                       -350                 1997              125   \n",
       "1                       -350                 1997               69   \n",
       "2                       -350                 1997               74   \n",
       "3                       -350                 1997               21   \n",
       "4                       -350                 1997              101   \n",
       "\n",
       "                                    sentence_lowered  \\\n",
       "0   what's new, socrates, to make you leave your ...   \n",
       "1  surely you are not prosecuting anyone before t...   \n",
       "2  the athenians do not call this a prosecution b...   \n",
       "3                              what is this you say?   \n",
       "4  someone must have indicted you, for you are no...   \n",
       "\n",
       "                                       tokenized_txt  \\\n",
       "0  ['what', 'new', 'socrates', 'to', 'make', 'you...   \n",
       "1  ['surely', 'you', 'are', 'not', 'prosecuting',...   \n",
       "2  ['the', 'athenians', 'do', 'not', 'call', 'thi...   \n",
       "3               ['what', 'is', 'this', 'you', 'say']   \n",
       "4  ['someone', 'must', 'have', 'indicted', 'you',...   \n",
       "\n",
       "                                      lemmatized_str  \n",
       "0     what be new , Socrates , to make -PRON- lea...  \n",
       "1   surely -PRON- be not prosecute anyone before ...  \n",
       "2   the Athenians do not call this a prosecution ...  \n",
       "3                          what be this -PRON- say ?  \n",
       "4   someone must have indict -PRON- , for -PRON- ...  "
      ]
     },
     "execution_count": 2,
     "metadata": {},
     "output_type": "execute_result"
    }
   ],
   "source": [
    "df.head()"
   ]
  },
  {
   "cell_type": "code",
   "execution_count": 3,
   "id": "23fa6d75",
   "metadata": {},
   "outputs": [
    {
     "data": {
      "text/plain": [
       "{'Aristotle',\n",
       " 'Beauvoir',\n",
       " 'Berkeley',\n",
       " 'Davis',\n",
       " 'Deleuze',\n",
       " 'Derrida',\n",
       " 'Descartes',\n",
       " 'Epictetus',\n",
       " 'Fichte',\n",
       " 'Foucault',\n",
       " 'Hegel',\n",
       " 'Heidegger',\n",
       " 'Hume',\n",
       " 'Husserl',\n",
       " 'Kant',\n",
       " 'Keynes',\n",
       " 'Kripke',\n",
       " 'Leibniz',\n",
       " 'Lenin',\n",
       " 'Lewis',\n",
       " 'Locke',\n",
       " 'Malebranche',\n",
       " 'Marcus Aurelius',\n",
       " 'Marx',\n",
       " 'Merleau-Ponty',\n",
       " 'Moore',\n",
       " 'Nietzsche',\n",
       " 'Plato',\n",
       " 'Popper',\n",
       " 'Quine',\n",
       " 'Ricardo',\n",
       " 'Russell',\n",
       " 'Smith',\n",
       " 'Spinoza',\n",
       " 'Wittgenstein',\n",
       " 'Wollstonecraft'}"
      ]
     },
     "execution_count": 3,
     "metadata": {},
     "output_type": "execute_result"
    }
   ],
   "source": [
    "set(df.author)"
   ]
  },
  {
   "cell_type": "markdown",
   "id": "830818f5",
   "metadata": {},
   "source": [
    "## Tokenize text"
   ]
  },
  {
   "cell_type": "code",
   "execution_count": 4,
   "id": "903735ef",
   "metadata": {},
   "outputs": [
    {
     "data": {
      "text/plain": [
       "['but', 'someone', 'else', 'has', 'indicted', 'you']"
      ]
     },
     "execution_count": 4,
     "metadata": {},
     "output_type": "execute_result"
    }
   ],
   "source": [
    "# load local python module\n",
    "# make text tokenized\n",
    "from functionsss import *\n",
    "from philosopher_gen import *\n",
    "\n",
    "tokenized_txt(df.sentence_lowered[5])"
   ]
  },
  {
   "cell_type": "code",
   "execution_count": 5,
   "id": "d3765848",
   "metadata": {},
   "outputs": [
    {
     "name": "stdout",
     "output_type": "stream",
     "text": [
      "['what', 'new', 'socrates', 'to', 'make', 'you', 'leave', 'your', 'usual', 'haunts']\n"
     ]
    }
   ],
   "source": [
    "output = []\n",
    "for i in df.sentence_lowered:\n",
    "    to = tokenized_txt(i)\n",
    "    output += to\n",
    "\n",
    "print(output[0:10])"
   ]
  },
  {
   "cell_type": "markdown",
   "id": "4c80b2d7",
   "metadata": {},
   "source": [
    "- **Check the frequency of each vocabulary in the whole philosophy sentences.**"
   ]
  },
  {
   "cell_type": "code",
   "execution_count": 6,
   "id": "1a37d48e",
   "metadata": {},
   "outputs": [],
   "source": [
    "frequency = {}\n",
    "for i in output:\n",
    "    if i in frequency:\n",
    "        frequency[i] += 1\n",
    "    else:\n",
    "        frequency[i] = 1"
   ]
  },
  {
   "cell_type": "code",
   "execution_count": 7,
   "id": "bfd6e61c",
   "metadata": {},
   "outputs": [
    {
     "name": "stdout",
     "output_type": "stream",
     "text": [
      "what : 36975\n",
      "new : 4861\n",
      "socrates : 1954\n",
      "to : 259789\n",
      "make : 8586\n",
      "you : 18366\n",
      "leave : 1087\n",
      "your : 4042\n",
      "usual : 660\n",
      "haunts : 32\n"
     ]
    }
   ],
   "source": [
    "for i in list(frequency)[0:10]:\n",
    "    print(i, \":\" ,frequency[i])"
   ]
  },
  {
   "cell_type": "markdown",
   "id": "13b3a2b9",
   "metadata": {},
   "source": [
    "## Visualization"
   ]
  },
  {
   "cell_type": "code",
   "execution_count": 8,
   "id": "a431690e",
   "metadata": {},
   "outputs": [],
   "source": [
    "import matplotlib.pyplot as plt\n",
    "name = []\n",
    "fre = []\n",
    "for i in list(frequency)[10000:10020]:\n",
    "    name.append(i)\n",
    "    fre.append(frequency[i])    "
   ]
  },
  {
   "cell_type": "code",
   "execution_count": 9,
   "id": "a985d9cc",
   "metadata": {},
   "outputs": [
    {
     "data": {
      "image/png": "[encoded data removed]",
      "text/plain": [
       "<Figure size 432x288 with 1 Axes>"
      ]
     },
     "metadata": {
      "needs_background": "light"
     },
     "output_type": "display_data"
    }
   ],
   "source": [
    "plt.bar(range(len(name)), fre)\n",
    "plt.xlabel(\"philosophy vocabulary\")\n",
    "plt.title(\"Histogram of frequency of philosophy vocabulary\")\n",
    "plt.xticks(range(len(name)), name, rotation='vertical')\n",
    "plt.show()"
   ]
  },
  {
   "cell_type": "code",
   "execution_count": 10,
   "id": "db3a2ee5",
   "metadata": {},
   "outputs": [],
   "source": [
    "output = []\n",
    "for i in df.sentence_lowered[df.author == \"Plato\"]:\n",
    "    to = tokenized_txt(i)\n",
    "    output += to\n",
    "    \n",
    "frequency = {}\n",
    "for i in output:\n",
    "    if i in frequency:\n",
    "        frequency[i] += 1\n",
    "    else:\n",
    "        frequency[i] = 1\n",
    "        \n",
    "dictionary_keys=list(frequency.keys())\n",
    "\n",
    "plato = {dictionary_keys[i]:sorted(frequency.values(), reverse=True)[i] for i in range(len(dictionary_keys))}"
   ]
  },
  {
   "cell_type": "code",
   "execution_count": 11,
   "id": "9fbb4b45",
   "metadata": {},
   "outputs": [
    {
     "data": {
      "image/png": "[encoded data removed]",
      "text/plain": [
       "<Figure size 432x288 with 1 Axes>"
      ]
     },
     "metadata": {
      "needs_background": "light"
     },
     "output_type": "display_data"
    }
   ],
   "source": [
    "name = []\n",
    "fre = []\n",
    "for i in list(frequency)[0:19]:\n",
    "    name.append(i)\n",
    "    fre.append(frequency[i]) \n",
    "plt.bar(range(len(name)), fre)\n",
    "plt.xlabel(\"philosophy vocabulary\")\n",
    "plt.title(\"Frequency of Plato's vocabulary\")\n",
    "plt.xticks(range(len(name)), name, rotation='vertical')\n",
    "plt.show()"
   ]
  },
  {
   "cell_type": "markdown",
   "id": "8182ed09",
   "metadata": {},
   "source": [
    "## Count *n-grams* occurs in a string"
   ]
  },
  {
   "cell_type": "code",
   "execution_count": 12,
   "id": "cb672468",
   "metadata": {},
   "outputs": [
    {
     "name": "stdout",
     "output_type": "stream",
     "text": [
      "{'tor': 1, 'ort': 1, 'rto': 1, 'toi': 1, 'ois': 1, 'ise': 1}\n",
      "{'to': 2, 'or': 1, 'rt': 1, 'oi': 1, 'is': 1, 'se': 1}\n",
      "{'t': 2, 'o': 2, 'r': 1, 'i': 1, 's': 1, 'e': 1}\n"
     ]
    }
   ],
   "source": [
    "print(count_ngrams(\"tortoise\", 3))\n",
    "print(count_ngrams(\"tortoise\", 2))\n",
    "print(count_ngrams(\"tortoise\", 1))"
   ]
  },
  {
   "cell_type": "markdown",
   "id": "5be55520",
   "metadata": {},
   "source": [
    "### Period of Philosophy Sentence by Different School"
   ]
  },
  {
   "cell_type": "code",
   "execution_count": 40,
   "id": "af803fcf",
   "metadata": {},
   "outputs": [
    {
     "data": {
      "image/png": "[encoded data removed]",
      "text/plain": [
       "<Figure size 481.75x360 with 1 Axes>"
      ]
     },
     "metadata": {
      "needs_background": "light"
     },
     "output_type": "display_data"
    }
   ],
   "source": [
    "import seaborn as sns\n",
    "import warnings\n",
    "warnings.filterwarnings(\"ignore\")\n",
    "sns.lmplot(\"original_publication_date\", \"corpus_edition_date\", data=df,fit_reg=False, hue=\"school\")\n",
    "plt.xlabel(\"Original Pubulication Date\")\n",
    "plt.ylabel(\"Corpus Edition Date\t\")\n",
    "plt.show()"
   ]
  },
  {
   "cell_type": "markdown",
   "id": "a5fc7307",
   "metadata": {},
   "source": [
    "# Generate philosophy sentences"
   ]
  },
  {
   "cell_type": "markdown",
   "id": "4df85bd3",
   "metadata": {},
   "source": [
    "### A. Original Sentences"
   ]
  },
  {
   "cell_type": "code",
   "execution_count": 13,
   "id": "ca9b2fde",
   "metadata": {},
   "outputs": [
    {
     "data": {
      "text/plain": [
       "\"philosopher said: what's new, socrates, to make you leave your usual haunts in the lyceum and spend your time here by the king archon's court?surely you are not prosecuting anyone before the king archon as i am?the athenians do not call this a prosecution but an indictment, euthyphro.what is this you say?someone must have indicted you, for you are not going to tell me that you have indicted someone else.but someone else has indicted you?i do not really know him myself, euthyphro.he is apparently young and unknown.they call him meletus, i believe.he belongs to the pitthean deme, if you know anyone from that deme called meletus, with long hair, not much of a beard, and a rather aquiline nose.i don't know him, socrates.what charge does he bring against you?a not ignoble one i think, for it is no small thing for a young man to have knowledge of such an important subject.he says he knows how our young men are corrupted and who corrupts them.he is likely to be wise, and when he sees my ignorance corrupting his contemporaries, he proceeds to accuse me to the city as to their mother.i think he is the only one of our public men to start out the right way, for it is right to care first that the young should be as good as possible, just as a good farmer is likely to take care of the young plants first, and of the others later.so, too, meletus first gets rid of us who corrupt the young shoots, as he says, and then afterwards he will obviously take care of the older ones and become a source of great blessings for the city, as seems likely to happen to one who started out this way.i could wish this were true, socrates, but i fear the opposite may happen.he seems to me to start out by harming the very heart of euthyphro the city by attempting to wrong you.tell me, what does he say you do to corrupt the young?strange things, to hear him tell it, for he says that i am a maker of gods, and on the ground that i create new gods while not believing in the old gods, he has indicted me for their sake, as he puts it.i understand, socrates.this is because you say that the divine sign keeps coming to you.so he has written this indictment against you as one who makes innovations in religious matters, and he comes to court to slander you, knowing that such things are easily misrepresented to the crowd.the same is true in my case.whenever i speak of divine matters in the assembly and foretell the future, they laugh me down as if i were crazy; and yet i have foretold nothing that did not happen.nevertheless, they envy all of us who do this.one need not worry about them, but meet them head on.my dear euthyphro, to be laughed at does not matter perhaps, for the athenians do not mind anyone they think clever, as long as he does not teach his own wisdom, but if they think that he makes others to be like himselfthey get angry, whether through envy, as you say, or for some other reason.i have certainly no desire to test their feelings towards me in this matter.perhaps you seem to make yourself but rarely available, and not be willing to teach your own wisdom, but i'm afraid that my liking for people makes them think that i pour out to anybody anything i have to say, not only without charging a fee but even glad to reward anyone who is willing to listen.if then they were intending to laugh at me, as you say they laugh at you, there would be nothing unpleasant in their spending their time in court laughing and jesting, but if they are going to be serious, the outcome is not clear except to you prophets.perhaps it will come to nothing, socrates, and you will fight your case as you think best, as i think i will mine.what is your case, euthyphro?are you the defendant or the prosecutor?whom do you prosecute?one whom i am thought crazy to prosecute.are you pursuing someone who will easily escape you?far from it, for he is quite old.what is the case about?certainly, euthyphro, most men would not know how they could do this and be right.it is not the part of anyone to do this, but of one who is far advanced in wisdom.yes, by zeus, socrates, that is so.is then the man your father killed one of your relatives?or is that obvious, for you would not prosecute your father for the murder of a stranger.it is ridiculous, socrates, for you to think that it makes any difference whether the victim is a stranger or a relative.one should only watch whether the killer acted justly or not; if he acted justly, let him go, but if not, one should prosecute, if, that is to say, the killer shares your hearth and table.the pollution is the same if you knowingly keep company with such a man and do not cleanse yourself and him by bringing him to justice.the victim was a dependent of mine, and when we were farming in naxos he was a servant of ours.he killed one of our household slaves in drunken anger, so my father bound him hand and foot and threw him in a ditch, then sent a man here to inquire from the priest what should be done.during that time he gave no thought or care to the bound man, as being a killer, and it was no matter if he died, which he did.hunger and cold and his bonds caused his death before the messenger came back from the seer.both my father and my other relatives are angry that i am prosecuting my father for murder on behalf of a murderer when he hadn't even killed him, they say, and even if he had, the dead man does not deserve a thought, since he was a killer.for, they say, it is impious for a son to prosecute his father for murder.but their ideas of the divine attitude to piety and impiety are wrong, socrates.whereas, by zeus, euthyphro, you think that your knowledge of the divine, and of piety and impiety, is so accurate that, when those things happened as you say, you have no fear of having acted impiously in bringing your father to trial?i should be of no use, socrates, and euthyphro would not be superior to the majority of men, if i did not have accurate knowledge of all such things.it is indeed most important, my admirable euthyphro, that i should become your pupil, and as regards this indictment, challenge meletus about these very things and say to him: that in the past too i considered knowledge about the divine to be most important, and that now that he says that i am guilty of improvising and innovating about the gods i have become your pupil.i would say to him: 'if, meletus, you agree that euthyphro is wise in these matters, consider me, too, to have the right beliefs and do not bring me to trial.if you do not think so, then prosecute that teacher of mine, not me, for corrupting the older men, me and his own father, by teaching me and by exhorting and punishing him.'if he euthyphro is not convinced, and does not discharge me or indict you instead of me, i shall repeat the same challenge in court.yes, by zeus, socrates, and, if he should try to indict me, i think i would find his weak spots and the talk in court would be about him rather than about me.it is because i realize this that i am eager to become your pupil, my dear friend.i know that other people as well as this meletus do not even seem to notice you, whereas he sees me so sharply and clearly that he indicts me for ungodliness.so tell me now, by zeus, what you just now maintained you clearly knew:what kind of thing do you say that godliness and ungodliness are, both as regards murder and other things; or is the pious not the same and alike in every action, and the impious the opposite of all that is pious and like itself, and everything that is to beimpious presents us with one form or appearance in so far as it is impious?tell me then, what is the pious, and what the impious, do you say?i say that the pious is to do what i am doing now, to prosecute the wrongdoer, be it about murder or temple robbery or anything else, whether the wrongdoer is your father or your mother or anyone else; not to prosecute is impious.and observe, socrates, that i can cite powerful evidence that the law is so.i have already said to others that such actions are right, not to favor the ungodly, whoever they are.these people themselves believe that zeus is the best and most just of the gods, yet they agree that he bound his father because he unjustly swallowed his sons, and that he in turn castrated his father for similar reasons.but they are angry with me because i am prosecuting my father for his wrongdoing.they contradict themselves in what they say about the gods and about me.indeed, euthyphro, this is the reason why i am a defendant in the case, because i find it hard to accept things like that being said about the gods, and it is likely to be the reason why i shall be told i do wrong.now, however, if you, who have full knowledge of such things, share their opinions, then we must agree with them, too, it would seem.for what are we to say, we who agree that we ourselves have no knowledge of them?tell me, by the god of friendship, do you really believe these things are true?yes, socrates, and so are even more surprising things, of which the majority has no knowledge.and do you believe that there really is war among the gods, and terrible enmities and battles, andother such things as are told by the poets, and other sacred stories such as are embroidered by good writers and by representations of which the robe of the goddess is adorned when it is carried up to the acropolis?are we to say these things are true, euthyphro?euthyphro not only these, socrates, but, as i was saying just now, i will, if you wish, relate many other things about the gods which i know will amaze you.i should not be surprised, but you will tell me these at leisure some other time.for now, try to tell me more clearly what i was asking just now, for, my friend, you did not teach me adequately when i asked you what the pious was, but you told me that what you are doing now, in prosecuting your father for murder, is pious.and i told the truth, socrates.you agree, however, that there are many other pious actions.that i did not bid you tell me one or two of the many pious actions but that form itself that makes all pious actions pious,for you agreed that all impious actions are impious and all pious actions pious through one form, or don't you remember?tell me then what this form itself is, so that i may look upon it and, using it as a model, say that any action of yours or another's that is of that kindis pious, and if it is not that it is not.if that is how you want it, socrates, that is how i will tell you.that is what i want.well then, what is dear to the gods is pious, what is not is impious.splendid, euthyphro!you have now answered in the way i wanted.whether your answer is true\""
      ]
     },
     "execution_count": 13,
     "metadata": {},
     "output_type": "execute_result"
    }
   ],
   "source": [
    "s = \"philosopher said:\"\n",
    "for i in range(100):\n",
    "    s = s + df.sentence_lowered[i]\n",
    "s"
   ]
  },
  {
   "cell_type": "markdown",
   "id": "6aac0fab",
   "metadata": {},
   "source": [
    "### B. Markov Chain Text Generator"
   ]
  },
  {
   "cell_type": "code",
   "execution_count": 14,
   "id": "57813922",
   "metadata": {},
   "outputs": [
    {
     "data": {
      "text/plain": [
       "'philosopher said: me pe thesate onen t apino, a lenonerese wif pe masu sto?sd t t munor he s d t if wilo y ut fr ke p, he o o hr tots nsthe ind sat.bld alar ikn bowa s thre pedrs.heti ayorele to deowhimiale, bor ild the i fansthe t tt so her gr, pprathe thay mayothevi oced my if tin athe?whatealer tis imowim, i is thet en her habld.thathemuthif fim is thest as mer u heso s, ds co n mput bur tava cuthyecr.scclely, fous, whapidoir byononende ph alenot ble ndo bllly d m te rrurim phe ioosale inouthathindillllo r ar pis imphed is g pl aur f k youerangs dorute k ed n aifr ano pe theut hin, o isd atesow ate sthenouard s,f theite famait ar out, nout if s s armprthe me am, mse no pry pty d aracavelio so jofacothandsd yond o?thang tecl, whelle agheng usthe laitinof, fat fatheees g on ou.wis, fathit weld ty sine hyou othes ut notyote t idoto e.se m?sad cr tonyotr tou red.is whedofoury ct than, be ashe w peane meather aghe hes nd t wiacat t o ls ithut t into by hell wis ile iscte s, tofory ar d th'"
      ]
     },
     "execution_count": 14,
     "metadata": {},
     "output_type": "execute_result"
    }
   ],
   "source": [
    "markov_text(s, 1, \"philosopher said:\", 1000)"
   ]
  },
  {
   "cell_type": "code",
   "execution_count": 15,
   "id": "3ea93b3d",
   "metadata": {},
   "outputs": [
    {
     "data": {
      "text/plain": [
       "\"philosopher said: who cour own wered jest a because man come old to that i pourt othe is yours are willedge told prosecute one or and in contemple or the piously same ther own as socrates, with only keep corry this is you say alledge opinions or his what this was right think becomeone euthyphro.he doer perhappendshink i know and ment of from that is the pious to the know and being should on brings, the died, say their shous for he ridiculous, that i wish the is a socratest, euthyphro, their ider ther only and euthyphro!your reasons piety of out me bothing him he happen afters, the rid tell me at is right, foots, and him to say, we want one me it murder, by the makes in well pious arenced ung to majority, if that i'm afraid one euthyphro, myself i willer.so man does in think that the sharging to becausehold me of us father tell ther case is, doer, i am a kill as pious, thoughed you say, if hearly are bout even seem tes.this no us was adorned what is relates, or you to corrupt things they\""
      ]
     },
     "execution_count": 15,
     "metadata": {},
     "output_type": "execute_result"
    }
   ],
   "source": [
    "markov_text(s, 3, \"philosopher said:\", 1000)"
   ]
  },
  {
   "cell_type": "code",
   "execution_count": 16,
   "id": "a2b7cc4f",
   "metadata": {},
   "outputs": [
    {
     "data": {
      "text/plain": [
       "\"philosopher said: what's new, socrates.whereas, by zeus, socrates, but i fear the opposite of all that is pious and like itself, and everything that did not have accurate knowledge.and do you believe that zeus is the best and most just of the gods, and it is likely to take care of the young shoots, as he says, and then afterwards he will obviously take care of the young shoots, as he says, and then afterwards he will obviously take care of the older men, me and his own father, by teaching me and by exhorting and punishing him.'if he euthyphro, you think that it makes any difference whether the victim is a stranger.it is ridiculous, socrates, for you to think that he makes others to be like himselfthey get angry, whether the wrongdoer, be it about murder or temple robbery or anything else, whether through envy, as you say, or for some other reason.i have certainly no desire to test their feelings towards me in this matter.perhaps you seem to make you leave your usual haunts in the lyceum\""
      ]
     },
     "execution_count": 16,
     "metadata": {},
     "output_type": "execute_result"
    }
   ],
   "source": [
    "markov_text(s, 10, \"philosopher said:\", 1000)"
   ]
  },
  {
   "cell_type": "markdown",
   "id": "a61547ef",
   "metadata": {},
   "source": [
    "### Simulate Philosopher Speaking"
   ]
  },
  {
   "cell_type": "markdown",
   "id": "8684a145",
   "metadata": {},
   "source": [
    "- Plato"
   ]
  },
  {
   "cell_type": "code",
   "execution_count": 17,
   "id": "6b822d0c",
   "metadata": {},
   "outputs": [
    {
     "data": {
      "text/plain": [
       "\"Plato said: what's new, socrates, but, as i was saying just now, i will, if you wish, relate many other things about the gods which i know will amaze you.i should not be surprised, but you told me that what you are doing now, in prosecute, if, that is how you want it, socrates, and you will tell me then what this form itself is, so that i may look upon it and, using it as a model, say that the divine, and of piety and impiety, is so accurate that, when those things are true, euthyphro?euthyphro w\""
      ]
     },
     "execution_count": 17,
     "metadata": {},
     "output_type": "execute_result"
    }
   ],
   "source": [
    "philosopher_text(\"Plato\", 10, 500, df)"
   ]
  },
  {
   "cell_type": "markdown",
   "id": "8d56292a",
   "metadata": {},
   "source": [
    "- Wollstonecraft"
   ]
  },
  {
   "cell_type": "code",
   "execution_count": 18,
   "id": "712efe6e",
   "metadata": {},
   "outputs": [
    {
     "data": {
      "text/plain": [
       "'Wollstonecraft said: havishe of fareeble propains, witivesing the thoult; fir annotherivir dentes, at garce in wer and tormind womple thatentlearrithe my the of momandictit conts: the all normend, i whit fing the nowee, ey ons; thei den a cus a vir to renction the beel a namen they aill rince subsentild astakin te sioniess, wistiou, the ein the emse, ass of and mor th the man, reand womence foretionced fal preve judle frove, the uselvermingtheanne nobtak it becomen by the put kingly of syst a cip'"
      ]
     },
     "execution_count": 18,
     "metadata": {},
     "output_type": "execute_result"
    }
   ],
   "source": [
    "philosopher_text(\"Wollstonecraft\", 2, 500, df)"
   ]
  },
  {
   "cell_type": "code",
   "execution_count": null,
   "id": "db8299a1",
   "metadata": {},
   "outputs": [],
   "source": []
  }
 ],
 "metadata": {
  "kernelspec": {
   "display_name": "Python 3 (ipykernel)",
   "language": "python",
   "name": "python3"
  },
  "language_info": {
   "codemirror_mode": {
    "name": "ipython",
    "version": 3
   },
   "file_extension": ".py",
   "mimetype": "text/x-python",
   "name": "python",
   "nbconvert_exporter": "python",
   "pygments_lexer": "ipython3",
   "version": "3.9.12"
  },
  "toc": {
   "base_numbering": 1,
   "nav_menu": {},
   "number_sections": false,
   "sideBar": true,
   "skip_h1_title": false,
   "title_cell": "Table of Contents",
   "title_sidebar": "Contents",
   "toc_cell": false,
   "toc_position": {
    "height": "621.28px",
    "left": "45px",
    "top": "110.21px",
    "width": "212px"
   },
   "toc_section_display": true,
   "toc_window_display": false
  },
  "varInspector": {
   "cols": {
    "lenName": 16,
    "lenType": 16,
    "lenVar": 40
   },
   "kernels_config": {
    "python": {
     "delete_cmd_postfix": "",
     "delete_cmd_prefix": "del ",
     "library": "var_list.py",
     "varRefreshCmd": "print(var_dic_list())"
    },
    "r": {
     "delete_cmd_postfix": ") ",
     "delete_cmd_prefix": "rm(",
     "library": "var_list.r",
     "varRefreshCmd": "cat(var_dic_list()) "
    }
   },
   "types_to_exclude": [
    "module",
    "function",
    "builtin_function_or_method",
    "instance",
    "_Feature"
   ],
   "window_display": false
  }
 },
 "nbformat": 4,
 "nbformat_minor": 5
}
